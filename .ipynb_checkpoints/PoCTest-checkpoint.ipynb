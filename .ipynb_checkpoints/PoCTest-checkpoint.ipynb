{
 "cells": [
  {
   "cell_type": "code",
   "execution_count": null,
   "id": "a1e64024-c908-4bbf-8fc4-4bebffe58a91",
   "metadata": {},
   "outputs": [],
   "source": []
  },
  {
   "cell_type": "code",
   "execution_count": null,
   "id": "76e53634-0521-4c4a-8d34-eaa5bb501e7f",
   "metadata": {},
   "outputs": [],
   "source": [
    "import pandas as pd\n",
    "\n",
    "# Path to your log file\n",
    "log_file = \"system_log.log\"  # this is the file you just copied\n",
    "\n",
    "# Load each line as a row\n",
    "logs = pd.read_csv(log_file, sep=\"\\n\", header=None, names=[\"raw_line\"])\n",
    "logs.head(10)  # show the first 10 lines\n"
   ]
  }
 ],
 "metadata": {
  "kernelspec": {
   "display_name": "Python 3 (ipykernel)",
   "language": "python",
   "name": "python3"
  },
  "language_info": {
   "codemirror_mode": {
    "name": "ipython",
    "version": 3
   },
   "file_extension": ".py",
   "mimetype": "text/x-python",
   "name": "python",
   "nbconvert_exporter": "python",
   "pygments_lexer": "ipython3",
   "version": "3.12.7"
  }
 },
 "nbformat": 4,
 "nbformat_minor": 5
}
